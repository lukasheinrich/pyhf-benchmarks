{
  "nbformat": 4,
  "nbformat_minor": 0,
  "metadata": {
    "colab": {
      "name": "TPU_standalone.ipynb",
      "version": "0.3.2",
      "provenance": [],
      "collapsed_sections": [],
      "include_colab_link": true
    },
    "kernelspec": {
      "name": "python3",
      "display_name": "Python 3"
    },
    "accelerator": "TPU"
  },
  "cells": [
    {
      "cell_type": "markdown",
      "metadata": {
        "id": "view-in-github",
        "colab_type": "text"
      },
      "source": [
        "[View in Colaboratory](https://colab.research.google.com/github/lukasheinrich/pyhf-benchmarks/blob/master/colab/TPU_standalone.ipynb)"
      ]
    },
    {
      "metadata": {
        "id": "_pQCOmISAQBu",
        "colab_type": "text"
      },
      "cell_type": "markdown",
      "source": [
        "# TPU pyhf interpolation"
      ]
    },
    {
      "metadata": {
        "id": "71iSWtsXe36x",
        "colab_type": "code",
        "colab": {}
      },
      "cell_type": "code",
      "source": [
        "import os\n",
        "import pprint\n",
        "import tensorflow as tf\n",
        "\n",
        "if 'COLAB_TPU_ADDR' not in os.environ:\n",
        "  print('ERROR: Not connected to a TPU runtime; please see the first cell in this notebook for instructions!')\n",
        "else:\n",
        "  tpu_address = 'grpc://' + os.environ['COLAB_TPU_ADDR']\n",
        "  print ('TPU address is', tpu_address)\n",
        "\n",
        "  with tf.Session(tpu_address) as session:\n",
        "    devices = session.list_devices()\n",
        "    \n",
        "  print('TPU devices:')\n",
        "  pprint.pprint(devices)"
      ],
      "execution_count": 0,
      "outputs": []
    },
    {
      "metadata": {
        "id": "Jkh7cEWRAEA-",
        "colab_type": "text"
      },
      "cell_type": "markdown",
      "source": [
        "If the cell above reports an error, make sure that you have enabled TPU support in the notebook settings. (Edit menu → Notebook settings)\n",
        "\n",
        "Now, let's try a simple computation."
      ]
    },
    {
      "metadata": {
        "id": "0iqSZvc6AX1m",
        "colab_type": "code",
        "colab": {
          "base_uri": "https://localhost:8080/",
          "height": 731
        },
        "outputId": "454a9ab0-1513-427f-e1e6-659715dc29e1"
      },
      "cell_type": "code",
      "source": [
        "import numpy as np\n",
        "import timeit\n",
        "\n",
        "def setup(N,float_t):\n",
        "    def _hfinterp_code1(histogramssets, alphasets):\n",
        "        allset_allhisto_deltas_up = tf.divide(histogramssets[:,:,2], histogramssets[:,:,1])\n",
        "        allset_allhisto_deltas_dn = tf.divide(histogramssets[:,:,0], histogramssets[:,:,1])\n",
        "\n",
        "        def ones(shape):\n",
        "            return tf.ones(shape, dtype = float_t)\n",
        "        def zeros(shape):\n",
        "            return tf.zeros(shape, dtype = float_t)\n",
        "        def where(mask,a,b):\n",
        "            mask = tf.cast(mask, float_t)\n",
        "            inv_mask = tf.cast(1-mask, float_t)\n",
        "            return mask * a + inv_mask * b\n",
        "        \n",
        "        allsets_allhistos_masks = where(alphasets > 0, ones(alphasets.shape), zeros(alphasets.shape))\n",
        "        bases_up = tf.einsum('sa,shb->shab', ones(alphasets.shape), allset_allhisto_deltas_up)\n",
        "        bases_dn = tf.einsum('sa,shb->shab', ones(alphasets.shape), allset_allhisto_deltas_dn)\n",
        "        exponents = tf.einsum('sa,shb->shab', tf.abs(alphasets), ones(allset_allhisto_deltas_up.shape))\n",
        "        masks = tf.einsum('sa,shb->shab', allsets_allhistos_masks, ones(allset_allhisto_deltas_up.shape))\n",
        "\n",
        "        bases = where(masks, bases_up, bases_dn)\n",
        "        return tf.pow(bases, exponents)\n",
        "\n",
        "    \n",
        "    a_shape = (100,1)\n",
        "    h_shape = (100,100,3,N)\n",
        "\n",
        "    a = tf.placeholder(float_t, a_shape)\n",
        "    h = tf.placeholder(float_t, h_shape)\n",
        "    ops = tf.contrib.tpu.rewrite(_hfinterp_code1, [h,a])\n",
        "\n",
        "    return ops, [a,h], [a_shape,h_shape]\n",
        "\n",
        "def run_it(ops,args,shapes):\n",
        "    r = session.run(ops, {args[0]: np.random.uniform(-1,1, size = shapes[0]), args[1]: np.random.uniform(-1,1, size = shapes[1])})\n",
        "    return r\n",
        "\n",
        "results = []\n",
        "for n in np.linspace(500,7000,14):\n",
        "    n = int(n)\n",
        "    session = tf.Session(tpu_address)\n",
        "    try:\n",
        "        print('Initializing...')\n",
        "        session.run(tf.contrib.tpu.initialize_system())\n",
        "        print('Running ops')\n",
        "        exec_time = timeit.timeit('run_it(o,a,s)', number=10, setup=\"from __main__ import run_it, setup; import tensorflow as tf; o,a,s = setup({},tf.bfloat16)\".format(n))\n",
        "        results.append((n,exec_time))\n",
        "        print('N: {} time: {}'.format(n,exec_time))\n",
        "    finally:\n",
        "        # For now, TPU sessions must be shutdown separately from\n",
        "        # closing the session.\n",
        "        session.run(tf.contrib.tpu.shutdown_system())\n",
        "        session.close()"
      ],
      "execution_count": 26,
      "outputs": [
        {
          "output_type": "stream",
          "text": [
            "Initializing...\n",
            "Running ops\n",
            "N: 500 time: 20.807447327999398\n",
            "Initializing...\n",
            "Running ops\n",
            "N: 1000 time: 17.89259686100013\n",
            "Initializing...\n",
            "Running ops\n",
            "N: 1500 time: 48.874835416998394\n",
            "Initializing...\n",
            "Running ops\n",
            "N: 2000 time: 25.663443012999778\n",
            "Initializing...\n",
            "Running ops\n",
            "N: 2500 time: 73.5554243229999\n",
            "Initializing...\n",
            "Running ops\n",
            "N: 3000 time: 47.30244636699899\n",
            "Initializing...\n",
            "Running ops\n",
            "N: 3500 time: 97.17557937099991\n",
            "Initializing...\n",
            "Running ops\n",
            "N: 4000 time: 43.82593866299976\n",
            "Initializing...\n",
            "Running ops\n",
            "N: 4500 time: 121.1753972710012\n",
            "Initializing...\n",
            "Running ops\n",
            "N: 5000 time: 74.95264433599914\n",
            "Initializing...\n",
            "Running ops\n",
            "N: 5500 time: 145.3289784690005\n",
            "Initializing...\n",
            "Running ops\n",
            "N: 6000 time: 70.05059990200061\n",
            "Initializing...\n",
            "Running ops\n",
            "N: 6500 time: 168.16438966199894\n",
            "Initializing...\n",
            "Running ops\n",
            "N: 7000 time: 103.03043713499937\n"
          ],
          "name": "stdout"
        }
      ]
    },
    {
      "metadata": {
        "id": "C4Wrw0riUBtI",
        "colab_type": "code",
        "colab": {
          "base_uri": "https://localhost:8080/",
          "height": 255
        },
        "outputId": "ddbdd708-fe80-4235-d9cd-8fea8d1fc1c4"
      },
      "cell_type": "code",
      "source": [
        "results"
      ],
      "execution_count": 27,
      "outputs": [
        {
          "output_type": "execute_result",
          "data": {
            "text/plain": [
              "[(500, 20.807447327999398),\n",
              " (1000, 17.89259686100013),\n",
              " (1500, 48.874835416998394),\n",
              " (2000, 25.663443012999778),\n",
              " (2500, 73.5554243229999),\n",
              " (3000, 47.30244636699899),\n",
              " (3500, 97.17557937099991),\n",
              " (4000, 43.82593866299976),\n",
              " (4500, 121.1753972710012),\n",
              " (5000, 74.95264433599914),\n",
              " (5500, 145.3289784690005),\n",
              " (6000, 70.05059990200061),\n",
              " (6500, 168.16438966199894),\n",
              " (7000, 103.03043713499937)]"
            ]
          },
          "metadata": {
            "tags": []
          },
          "execution_count": 27
        }
      ]
    },
    {
      "metadata": {
        "id": "pV5i-3IEam-T",
        "colab_type": "code",
        "colab": {}
      },
      "cell_type": "code",
      "source": [
        ""
      ],
      "execution_count": 0,
      "outputs": []
    }
  ]
}