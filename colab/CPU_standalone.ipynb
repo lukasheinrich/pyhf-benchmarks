{
  "nbformat": 4,
  "nbformat_minor": 0,
  "metadata": {
    "colab": {
      "name": "CPU_standalone.ipynb",
      "version": "0.3.2",
      "provenance": [],
      "collapsed_sections": [],
      "include_colab_link": true
    },
    "kernelspec": {
      "name": "python3",
      "display_name": "Python 3"
    }
  },
  "cells": [
    {
      "cell_type": "markdown",
      "metadata": {
        "id": "view-in-github",
        "colab_type": "text"
      },
      "source": [
        "[View in Colaboratory](https://colab.research.google.com/github/lukasheinrich/pyhf-benchmarks/blob/master/colab/CPU_standalone.ipynb)"
      ]
    },
    {
      "metadata": {
        "id": "qRtXuhwlbxWC",
        "colab_type": "text"
      },
      "cell_type": "markdown",
      "source": [
        "# CPU pyhf interpolation"
      ]
    },
    {
      "metadata": {
        "id": "ezLe2EpP8JHo",
        "colab_type": "code",
        "colab": {
          "base_uri": "https://localhost:8080/",
          "height": 493
        },
        "outputId": "baefd14c-8f6d-4d5f-9fd6-1329272389d0"
      },
      "cell_type": "code",
      "source": [
        "import numpy as np\n",
        "import timeit\n",
        "import tensorflow as tf\n",
        "def setup(N,float_t):\n",
        "    def _hfinterp_code1(histogramssets, alphasets):\n",
        "        allset_allhisto_deltas_up = tf.divide(histogramssets[:,:,2], histogramssets[:,:,1])\n",
        "        allset_allhisto_deltas_dn = tf.divide(histogramssets[:,:,0], histogramssets[:,:,1])\n",
        "\n",
        "        def ones(shape):\n",
        "            return tf.ones(shape, dtype = float_t)\n",
        "        def zeros(shape):\n",
        "            return tf.zeros(shape, dtype = float_t)\n",
        "        def where(mask,a,b):\n",
        "            mask = tf.cast(mask, float_t)\n",
        "            inv_mask = tf.cast(1-mask, float_t)\n",
        "            return mask * a + inv_mask * b\n",
        "        \n",
        "        allsets_allhistos_masks = where(alphasets > 0, ones(alphasets.shape), zeros(alphasets.shape))\n",
        "        bases_up = tf.einsum('sa,shb->shab', ones(alphasets.shape), allset_allhisto_deltas_up)\n",
        "        bases_dn = tf.einsum('sa,shb->shab', ones(alphasets.shape), allset_allhisto_deltas_dn)\n",
        "        exponents = tf.einsum('sa,shb->shab', tf.abs(alphasets), ones(allset_allhisto_deltas_up.shape))\n",
        "        masks = tf.einsum('sa,shb->shab', allsets_allhistos_masks, ones(allset_allhisto_deltas_up.shape))\n",
        "\n",
        "        bases = where(masks, bases_up, bases_dn)\n",
        "        return tf.pow(bases, exponents)\n",
        "\n",
        "    \n",
        "    a_shape = (100,1)\n",
        "    h_shape = (100,100,3,N)\n",
        "\n",
        "    with tf.device('/cpu:0'):\n",
        "      a = tf.placeholder(float_t, a_shape)\n",
        "      h = tf.placeholder(float_t, h_shape)\n",
        "      gpu_op = _hfinterp_code1(h,a)\n",
        "\n",
        "    return [gpu_op], [a,h], [a_shape,h_shape]\n",
        "\n",
        "def run_it(ops,args,shapes):\n",
        "    r = session.run(ops, {args[0]: np.random.uniform(-1,1, size = shapes[0]), args[1]: np.random.uniform(-1,1, size = shapes[1])})\n",
        "    return r\n",
        "\n",
        "results = []\n",
        "for n in np.linspace(500,7000,14):\n",
        "    n = int(n)\n",
        "    session = tf.Session()\n",
        "    try:\n",
        "        print('Running ops')\n",
        "        exec_time = timeit.timeit('run_it(o,a,s)', number=10, setup=\"from __main__ import run_it, setup; import tensorflow as tf; o,a,s = setup({},tf.float16)\".format(n))\n",
        "        results.append((n,exec_time))\n",
        "        print('N: {} time: {}'.format(n,exec_time))\n",
        "    finally:\n",
        "        # For now, TPU sessions must be shutdown separately from\n",
        "        # closing the session.\n",
        "        session.close()\n"
      ],
      "execution_count": 2,
      "outputs": [
        {
          "output_type": "stream",
          "text": [
            "Running ops\n",
            "N: 500 time: 24.69131860000016\n",
            "Running ops\n",
            "N: 1000 time: 50.953526545001296\n",
            "Running ops\n",
            "N: 1500 time: 76.26330991199939\n",
            "Running ops\n",
            "N: 2000 time: 101.76752162900084\n",
            "Running ops\n",
            "N: 2500 time: 126.98815078100051\n",
            "Running ops\n",
            "N: 3000 time: 152.69746947000021\n",
            "Running ops\n",
            "N: 3500 time: 178.52999462200023\n",
            "Running ops\n",
            "N: 4000 time: 203.67025582600036\n",
            "Running ops\n",
            "N: 4500 time: 230.400485225\n",
            "Running ops\n",
            "N: 5000 time: 256.978021799001\n",
            "Running ops\n",
            "N: 5500 time: 282.4864051000004\n",
            "Running ops\n",
            "N: 6000 time: 308.44447330899857\n",
            "Running ops\n",
            "N: 6500 time: 334.29839917199934\n",
            "Running ops\n",
            "N: 7000 time: 360.149083409\n"
          ],
          "name": "stdout"
        }
      ]
    },
    {
      "metadata": {
        "id": "zfqwGQSP8KFe",
        "colab_type": "code",
        "colab": {
          "base_uri": "https://localhost:8080/",
          "height": 255
        },
        "outputId": "ca358229-f509-4f9c-8822-bc8fa79f3495"
      },
      "cell_type": "code",
      "source": [
        "results"
      ],
      "execution_count": 3,
      "outputs": [
        {
          "output_type": "execute_result",
          "data": {
            "text/plain": [
              "[(500, 24.69131860000016),\n",
              " (1000, 50.953526545001296),\n",
              " (1500, 76.26330991199939),\n",
              " (2000, 101.76752162900084),\n",
              " (2500, 126.98815078100051),\n",
              " (3000, 152.69746947000021),\n",
              " (3500, 178.52999462200023),\n",
              " (4000, 203.67025582600036),\n",
              " (4500, 230.400485225),\n",
              " (5000, 256.978021799001),\n",
              " (5500, 282.4864051000004),\n",
              " (6000, 308.44447330899857),\n",
              " (6500, 334.29839917199934),\n",
              " (7000, 360.149083409)]"
            ]
          },
          "metadata": {
            "tags": []
          },
          "execution_count": 3
        }
      ]
    },
    {
      "metadata": {
        "id": "tdNPmkWNKvHu",
        "colab_type": "code",
        "colab": {}
      },
      "cell_type": "code",
      "source": [
        ""
      ],
      "execution_count": 0,
      "outputs": []
    }
  ]
}