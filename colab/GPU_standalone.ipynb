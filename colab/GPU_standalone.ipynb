{
  "nbformat": 4,
  "nbformat_minor": 0,
  "metadata": {
    "colab": {
      "name": "GPU_standalone.ipynb",
      "version": "0.3.2",
      "provenance": [],
      "collapsed_sections": [],
      "include_colab_link": true
    },
    "kernelspec": {
      "name": "python3",
      "display_name": "Python 3"
    },
    "accelerator": "GPU"
  },
  "cells": [
    {
      "cell_type": "markdown",
      "metadata": {
        "id": "view-in-github",
        "colab_type": "text"
      },
      "source": [
        "[View in Colaboratory](https://colab.research.google.com/github/lukasheinrich/pyhf-benchmarks/blob/master/colab/GPU_standalone.ipynb)"
      ]
    },
    {
      "metadata": {
        "id": "iccTb54Lbpo1",
        "colab_type": "text"
      },
      "cell_type": "markdown",
      "source": [
        "# GPU pyhf interpolation"
      ]
    },
    {
      "metadata": {
        "id": "2Tl8J6eH6d7Y",
        "colab_type": "code",
        "colab": {
          "base_uri": "https://localhost:8080/",
          "height": 34
        },
        "outputId": "b7575647-7e9a-46b6-f6a6-96cca88afb0f"
      },
      "cell_type": "code",
      "source": [
        "import tensorflow as tf\n",
        "device_name = tf.test.gpu_device_name()\n",
        "if device_name != '/device:GPU:0':\n",
        "  raise SystemError('GPU device not found')\n",
        "print('Found GPU at: {}'.format(device_name))"
      ],
      "execution_count": 1,
      "outputs": [
        {
          "output_type": "stream",
          "text": [
            "Found GPU at: /device:GPU:0\n"
          ],
          "name": "stdout"
        }
      ]
    },
    {
      "metadata": {
        "id": "6SItN_XG6zPj",
        "colab_type": "code",
        "colab": {
          "base_uri": "https://localhost:8080/",
          "height": 493
        },
        "outputId": "571dd25a-179d-425f-e35d-502c1ff1e6c6"
      },
      "cell_type": "code",
      "source": [
        "import numpy as np\n",
        "import timeit\n",
        "\n",
        "def setup(N,float_t):\n",
        "    def _hfinterp_code1(histogramssets, alphasets):\n",
        "        allset_allhisto_deltas_up = tf.divide(histogramssets[:,:,2], histogramssets[:,:,1])\n",
        "        allset_allhisto_deltas_dn = tf.divide(histogramssets[:,:,0], histogramssets[:,:,1])\n",
        "\n",
        "        def ones(shape):\n",
        "            return tf.ones(shape, dtype = float_t)\n",
        "        def zeros(shape):\n",
        "            return tf.zeros(shape, dtype = float_t)\n",
        "        def where(mask,a,b):\n",
        "            mask = tf.cast(mask, float_t)\n",
        "            inv_mask = tf.cast(1-mask, float_t)\n",
        "            return mask * a + inv_mask * b\n",
        "        \n",
        "        allsets_allhistos_masks = where(alphasets > 0, ones(alphasets.shape), zeros(alphasets.shape))\n",
        "        bases_up = tf.einsum('sa,shb->shab', ones(alphasets.shape), allset_allhisto_deltas_up)\n",
        "        bases_dn = tf.einsum('sa,shb->shab', ones(alphasets.shape), allset_allhisto_deltas_dn)\n",
        "        exponents = tf.einsum('sa,shb->shab', tf.abs(alphasets), ones(allset_allhisto_deltas_up.shape))\n",
        "        masks = tf.einsum('sa,shb->shab', allsets_allhistos_masks, ones(allset_allhisto_deltas_up.shape))\n",
        "\n",
        "        bases = where(masks, bases_up, bases_dn)\n",
        "        return tf.pow(bases, exponents)\n",
        "\n",
        "    \n",
        "    a_shape = (100,1)\n",
        "    h_shape = (100,100,3,N)\n",
        "\n",
        "    with tf.device('/gpu:0'):\n",
        "      a = tf.placeholder(float_t, a_shape)\n",
        "      h = tf.placeholder(float_t, h_shape)\n",
        "      gpu_op = _hfinterp_code1(h,a)\n",
        "\n",
        "    return [gpu_op], [a,h], [a_shape,h_shape]\n",
        "\n",
        "def run_it(ops,args,shapes):\n",
        "    r = session.run(ops, {args[0]: np.random.uniform(-1,1, size = shapes[0]), args[1]: np.random.uniform(-1,1, size = shapes[1])})\n",
        "    return r\n",
        "\n",
        "results = []\n",
        "for n in np.linspace(500,7000,14):\n",
        "    n = int(n)\n",
        "    session = tf.Session()\n",
        "    try:\n",
        "        print('Running ops')\n",
        "        exec_time = timeit.timeit('run_it(o,a,s)', number=10, setup=\"from __main__ import run_it, setup; import tensorflow as tf; o,a,s = setup({},tf.float16)\".format(n))\n",
        "        results.append((n,exec_time))\n",
        "        print('N: {} time: {}'.format(n,exec_time))\n",
        "    finally:\n",
        "        # For now, TPU sessions must be shutdown separately from\n",
        "        # closing the session.\n",
        "        session.close()\n"
      ],
      "execution_count": 2,
      "outputs": [
        {
          "output_type": "stream",
          "text": [
            "Running ops\n",
            "N: 500 time: 4.00114458400094\n",
            "Running ops\n",
            "N: 1000 time: 7.1576597379989835\n",
            "Running ops\n",
            "N: 1500 time: 10.509401482999237\n",
            "Running ops\n",
            "N: 2000 time: 13.962642597000013\n",
            "Running ops\n",
            "N: 2500 time: 17.150409201000002\n",
            "Running ops\n",
            "N: 3000 time: 20.761605435998717\n",
            "Running ops\n",
            "N: 3500 time: 24.125610609999057\n",
            "Running ops\n",
            "N: 4000 time: 27.18831246099944\n",
            "Running ops\n",
            "N: 4500 time: 30.785486556998876\n",
            "Running ops\n",
            "N: 5000 time: 33.70743698700062\n",
            "Running ops\n",
            "N: 5500 time: 37.93001072200059\n",
            "Running ops\n",
            "N: 6000 time: 41.75870220199977\n",
            "Running ops\n",
            "N: 6500 time: 45.12628070900064\n",
            "Running ops\n",
            "N: 7000 time: 48.2928322709995\n"
          ],
          "name": "stdout"
        }
      ]
    },
    {
      "metadata": {
        "id": "0SzKJlyO7F_0",
        "colab_type": "code",
        "colab": {
          "base_uri": "https://localhost:8080/",
          "height": 255
        },
        "outputId": "a8e015ec-557d-43c8-c531-2a7f123f107e"
      },
      "cell_type": "code",
      "source": [
        "results"
      ],
      "execution_count": 3,
      "outputs": [
        {
          "output_type": "execute_result",
          "data": {
            "text/plain": [
              "[(500, 4.00114458400094),\n",
              " (1000, 7.1576597379989835),\n",
              " (1500, 10.509401482999237),\n",
              " (2000, 13.962642597000013),\n",
              " (2500, 17.150409201000002),\n",
              " (3000, 20.761605435998717),\n",
              " (3500, 24.125610609999057),\n",
              " (4000, 27.18831246099944),\n",
              " (4500, 30.785486556998876),\n",
              " (5000, 33.70743698700062),\n",
              " (5500, 37.93001072200059),\n",
              " (6000, 41.75870220199977),\n",
              " (6500, 45.12628070900064),\n",
              " (7000, 48.2928322709995)]"
            ]
          },
          "metadata": {
            "tags": []
          },
          "execution_count": 3
        }
      ]
    },
    {
      "metadata": {
        "id": "RlTZtYSnA12e",
        "colab_type": "code",
        "colab": {
          "base_uri": "https://localhost:8080/",
          "height": 34
        },
        "outputId": "08c3d1f0-76c6-4924-ad49-8cab19d5902f"
      },
      "cell_type": "code",
      "source": [
        "62.98668317800002"
      ],
      "execution_count": 16,
      "outputs": [
        {
          "output_type": "execute_result",
          "data": {
            "text/plain": [
              "62.98668317800002"
            ]
          },
          "metadata": {
            "tags": []
          },
          "execution_count": 16
        }
      ]
    },
    {
      "metadata": {
        "id": "5E5ydfsNE0Jc",
        "colab_type": "code",
        "colab": {
          "base_uri": "https://localhost:8080/",
          "height": 34
        },
        "outputId": "dc266be7-0a0c-4283-930c-3a67718d0bf0"
      },
      "cell_type": "code",
      "source": [
        "tf.bfloat16==tf.float16"
      ],
      "execution_count": 7,
      "outputs": [
        {
          "output_type": "execute_result",
          "data": {
            "text/plain": [
              "False"
            ]
          },
          "metadata": {
            "tags": []
          },
          "execution_count": 7
        }
      ]
    },
    {
      "metadata": {
        "id": "9kay12KpLA0i",
        "colab_type": "code",
        "colab": {}
      },
      "cell_type": "code",
      "source": [
        ""
      ],
      "execution_count": 0,
      "outputs": []
    }
  ]
}