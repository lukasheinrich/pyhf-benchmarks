{
  "nbformat": 4,
  "nbformat_minor": 0,
  "metadata": {
    "colab": {
      "name": "jax_benchmarks.ipynb",
      "provenance": [],
      "collapsed_sections": []
    },
    "kernelspec": {
      "name": "python3",
      "display_name": "Python 3"
    }
  },
  "cells": [
    {
      "cell_type": "code",
      "metadata": {
        "id": "0LxXoOSazwLd",
        "outputId": "cc4c5fbc-8ee7-4f76-8fe2-a59e4a91a0cc",
        "colab": {
          "base_uri": "https://localhost:8080/"
        }
      },
      "source": [
        "# Make sure the Colab Runtime is set to Accelerator: TPU.\n",
        "import requests\n",
        "import os\n",
        "backend = 'gpu'\n",
        "if backend =='tpu':\n",
        "  # The following is required to use TPU Driver as JAX's backend.\n",
        "  from jax.config import config\n",
        "  config.FLAGS.jax_xla_backend = \"tpu_driver\"\n",
        "  config.FLAGS.jax_backend_target = \"grpc://\" + os.environ['COLAB_TPU_ADDR']\n",
        "  print(config.FLAGS.jax_backend_target)\n",
        "\n",
        "import jax.numpy as jnp\n",
        "import jax\n",
        "print(jnp.asarray([1,2,3]).device_buffer.device())"
      ],
      "execution_count": 2,
      "outputs": [
        {
          "output_type": "stream",
          "text": [
            "WARNING:absl:No GPU/TPU found, falling back to CPU. (Set TF_CPP_MIN_LOG_LEVEL=0 and rerun for more info.)\n"
          ],
          "name": "stderr"
        },
        {
          "output_type": "stream",
          "text": [
            "cpu:0\n"
          ],
          "name": "stdout"
        }
      ]
    },
    {
      "cell_type": "code",
      "metadata": {
        "id": "r1B3tN2Gzx7t"
      },
      "source": [
        "def setup(N,float_t):\n",
        "    def _hfinterp_code1(histogramssets, alphasets):\n",
        "        allset_allhisto_deltas_up = jnp.divide(histogramssets[:,:,2], histogramssets[:,:,1])\n",
        "        allset_allhisto_deltas_dn = jnp.divide(histogramssets[:,:,0], histogramssets[:,:,1])\n",
        "        \n",
        "        allsets_allhistos_masks = jnp.where(alphasets > 0, jnp.ones(alphasets.shape), jnp.zeros(alphasets.shape))\n",
        "        bases_up = jnp.einsum('sa,shb->shab', jnp.ones(alphasets.shape), allset_allhisto_deltas_up)\n",
        "        bases_dn = jnp.einsum('sa,shb->shab', jnp.ones(alphasets.shape), allset_allhisto_deltas_dn)\n",
        "        exponents = jnp.einsum('sa,shb->shab', jnp.abs(alphasets), jnp.ones(allset_allhisto_deltas_up.shape))\n",
        "        masks = jnp.einsum('sa,shb->shab', allsets_allhistos_masks, jnp.ones(allset_allhisto_deltas_up.shape))\n",
        "\n",
        "        bases = jnp.where(masks, bases_up, bases_dn)\n",
        "        return jnp.power(bases, exponents)\n",
        "\n",
        "    \n",
        "    a_shape = (100,1)\n",
        "    h_shape = (100,100,3,N)\n",
        "    f = jax.jit(_hfinterp_code1)\n",
        "    return f, [a_shape,h_shape]\n",
        "\n"
      ],
      "execution_count": 3,
      "outputs": []
    },
    {
      "cell_type": "code",
      "metadata": {
        "id": "AuXZZ7nA05-B"
      },
      "source": [
        "f,shapes = setup(1000,0.2)"
      ],
      "execution_count": 4,
      "outputs": []
    },
    {
      "cell_type": "code",
      "metadata": {
        "id": "5RiXatmb07zn",
        "outputId": "c33d0fcf-4de5-4be9-9f17-3537f4611b2c",
        "colab": {
          "base_uri": "https://localhost:8080/"
        }
      },
      "source": [
        "import numpy as np\n",
        "a = jnp.asarray(np.random.uniform(size = shapes[0]))\n",
        "h = jnp.asarray(np.random.uniform(size = shapes[1]))\n",
        "print(a.device_buffer.device(),h.device_buffer.device())\n",
        "print(f(h,a).shape,f)#trigger jit"
      ],
      "execution_count": 5,
      "outputs": [
        {
          "output_type": "stream",
          "text": [
            "cpu:0 cpu:0\n",
            "(100, 100, 1, 1000) <function _python_jit.<locals>.f_jitted at 0x7f2f85b0a6a8>\n"
          ],
          "name": "stdout"
        }
      ]
    },
    {
      "cell_type": "code",
      "metadata": {
        "id": "20OLID451NJ2",
        "outputId": "4bb64460-4ca9-4101-8633-ab1d93a52c84",
        "colab": {
          "base_uri": "https://localhost:8080/"
        }
      },
      "source": [
        "%%timeit\n",
        "f(h,a)"
      ],
      "execution_count": 6,
      "outputs": [
        {
          "output_type": "stream",
          "text": [
            "100 loops, best of 3: 131 ms per loop\n"
          ],
          "name": "stdout"
        }
      ]
    },
    {
      "cell_type": "code",
      "metadata": {
        "id": "1MPacYrs1PGz"
      },
      "source": [
        ""
      ],
      "execution_count": null,
      "outputs": []
    }
  ]
}